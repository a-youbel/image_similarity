{
 "cells": [
  {
   "cell_type": "code",
   "execution_count": 1,
   "id": "4b0d53ce",
   "metadata": {},
   "outputs": [],
   "source": [
    "from PIL import Image\n",
    "import imagehash"
   ]
  },
  {
   "cell_type": "code",
   "execution_count": null,
   "id": "eb7d5758",
   "metadata": {},
   "outputs": [],
   "source": []
  },
  {
   "cell_type": "code",
   "execution_count": 28,
   "id": "d89c2737",
   "metadata": {},
   "outputs": [
    {
     "name": "stdout",
     "output_type": "stream",
     "text": [
      "Hash 1: aac19c6bc13f92b4\n",
      "Hash 2: aac19c6bc13f92b4\n",
      "Hash difference: 0\n",
      "Similarity score: 1.0\n",
      "The images are identical.\n"
     ]
    }
   ],
   "source": [
    "img1 = Image.open(\"images/renault-25-v6-turbo-phase-1-185ch-8.jpg\")\n",
    "img2 = Image.open(\"images/renault-25-v6-turbo-phase-1-185ch-8-compressed.jpg\")\n",
    "\n",
    "hash1 = imagehash.phash(img1)  # or dhash, ahash, whash\n",
    "hash2 = imagehash.phash(img2)\n",
    "\n",
    "hash_diff = hash1 - hash2\n",
    "\n",
    "print(f\"Hash 1: {hash1}\")\n",
    "print(f\"Hash 2: {hash2}\")\n",
    "print(f\"Hash difference: {hash_diff}\")\n",
    "print(f\"Similarity score: {1 - (hash_diff / len(hash1.hash) ** 2)}\")\n",
    "if hash_diff == 0:\n",
    "    print(\"The images are identical.\")\n",
    "else:\n",
    "    print(\"The images are different.\")\n",
    "    if hash_diff < 5:\n",
    "        print(\"The images are very similar.\")\n",
    "    elif hash_diff < 10:\n",
    "        print(\"The images are somewhat similar.\")\n",
    "    else:\n",
    "        print(\"The images are quite different.\")"
   ]
  },
  {
   "cell_type": "code",
   "execution_count": 20,
   "id": "17ca326b",
   "metadata": {},
   "outputs": [
    {
     "name": "stdout",
     "output_type": "stream",
     "text": [
      "Hash 1: aac19c6bc13f92b4\n",
      "Hash 2: a8c19c6bc13f9ab4\n",
      "Hash difference: 2\n",
      "Similarity score: 0.96875\n",
      "The images are different.\n",
      "The images are very similar.\n"
     ]
    }
   ],
   "source": [
    "img1 = Image.open(\"images/renault-25-v6-turbo-phase-1-185ch-8.jpg\")\n",
    "img2 = Image.open(\"images/renault-25-v6-turbo-phase-1-185ch-8-resized.jpg\")\n",
    "\n",
    "hash1 = imagehash.phash(img1)  # or dhash, ahash, whash\n",
    "hash2 = imagehash.phash(img2)\n",
    "\n",
    "hash_diff = hash1 - hash2\n",
    "\n",
    "print(f\"Hash 1: {hash1}\")\n",
    "print(f\"Hash 2: {hash2}\")\n",
    "print(f\"Hash difference: {hash_diff}\")\n",
    "print(f\"Similarity score: {1 - (hash_diff / len(hash1.hash) ** 2)}\")\n",
    "if hash_diff == 0:\n",
    "    print(\"The images are identical.\")\n",
    "else:\n",
    "    print(\"The images are different.\")\n",
    "    if hash_diff < 5:\n",
    "        print(\"The images are very similar.\")\n",
    "    elif hash_diff < 10:\n",
    "        print(\"The images are somewhat similar.\")\n",
    "    else:\n",
    "        print(\"The images are quite different.\")"
   ]
  },
  {
   "cell_type": "code",
   "execution_count": 12,
   "id": "d2f36419",
   "metadata": {},
   "outputs": [
    {
     "data": {
      "text/plain": [
       "'aac19c6bc13f92b4'"
      ]
     },
     "execution_count": 12,
     "metadata": {},
     "output_type": "execute_result"
    }
   ],
   "source": [
    "str(hash1)"
   ]
  },
  {
   "cell_type": "code",
   "execution_count": 13,
   "id": "cc2c7db6",
   "metadata": {},
   "outputs": [
    {
     "data": {
      "text/plain": [
       "array([[ True, False,  True, False,  True, False,  True, False],\n",
       "       [ True,  True, False, False, False, False, False,  True],\n",
       "       [ True, False, False,  True,  True,  True, False, False],\n",
       "       [False,  True,  True, False,  True, False,  True,  True],\n",
       "       [ True,  True, False, False, False, False, False,  True],\n",
       "       [False, False,  True,  True,  True,  True,  True,  True],\n",
       "       [ True, False, False,  True, False, False,  True, False],\n",
       "       [ True, False,  True,  True, False,  True, False, False]])"
      ]
     },
     "execution_count": 13,
     "metadata": {},
     "output_type": "execute_result"
    }
   ],
   "source": [
    "hash1"
   ]
  },
  {
   "cell_type": "code",
   "execution_count": 29,
   "id": "019c865b",
   "metadata": {},
   "outputs": [
    {
     "name": "stdout",
     "output_type": "stream",
     "text": [
      "Hash 1: aac19c6bc13f92b4\n",
      "Hash 2: b9999130c0e6ee4f\n",
      "Hash difference: 32\n",
      "Similarity score: 0.5\n",
      "The images are different.\n",
      "The images are quite different.\n"
     ]
    }
   ],
   "source": [
    "img1 = Image.open(\"images/renault-25-v6-turbo-phase-1-185ch-8.jpg\")\n",
    "img2 = Image.open(\"images/renault-25-v6-turbo-phase-1-185ch-7.jpg\")\n",
    "\n",
    "hash1 = imagehash.phash(img1)  # or dhash, ahash, whash\n",
    "hash2 = imagehash.phash(img2)\n",
    "\n",
    "hash_diff = hash1 - hash2\n",
    "\n",
    "print(f\"Hash 1: {hash1}\")\n",
    "print(f\"Hash 2: {hash2}\")\n",
    "print(f\"Hash difference: {hash_diff}\")\n",
    "print(f\"Similarity score: {1 - (hash_diff / len(hash1.hash) ** 2)}\")\n",
    "if hash_diff == 0:\n",
    "    print(\"The images are identical.\")\n",
    "else:\n",
    "    print(\"The images are different.\")\n",
    "    if hash_diff < 5:\n",
    "        print(\"The images are very similar.\")\n",
    "    elif hash_diff < 10:\n",
    "        print(\"The images are somewhat similar.\")\n",
    "    else:\n",
    "        print(\"The images are quite different.\")"
   ]
  },
  {
   "cell_type": "code",
   "execution_count": 30,
   "id": "ef954b6b",
   "metadata": {},
   "outputs": [
    {
     "name": "stdout",
     "output_type": "stream",
     "text": [
      "Hash 1: bf60153f4a30e599\n",
      "Hash 2: b9999130c0e6ee4f\n",
      "Hash difference: 30\n",
      "Similarity score: 0.53125\n",
      "The images are different.\n",
      "The images are quite different.\n"
     ]
    }
   ],
   "source": [
    "img1 = Image.open(\"images/renault-25-v6-turbo-phase-1-185ch-10.jpg\")\n",
    "img2 = Image.open(\"images/renault-25-v6-turbo-phase-1-185ch-7.jpg\")\n",
    "\n",
    "hash1 = imagehash.phash(img1)  # or dhash, ahash, whash\n",
    "hash2 = imagehash.phash(img2)\n",
    "\n",
    "hash_diff = hash1 - hash2\n",
    "\n",
    "print(f\"Hash 1: {hash1}\")\n",
    "print(f\"Hash 2: {hash2}\")\n",
    "print(f\"Hash difference: {hash_diff}\")\n",
    "print(f\"Similarity score: {1 - (hash_diff / len(hash1.hash) ** 2)}\")\n",
    "if hash_diff == 0:\n",
    "    print(\"The images are identical.\")\n",
    "else:\n",
    "    print(\"The images are different.\")\n",
    "    if hash_diff < 5:\n",
    "        print(\"The images are very similar.\")\n",
    "    elif hash_diff < 10:\n",
    "        print(\"The images are somewhat similar.\")\n",
    "    else:\n",
    "        print(\"The images are quite different.\")"
   ]
  },
  {
   "cell_type": "code",
   "execution_count": 31,
   "id": "1802d102",
   "metadata": {},
   "outputs": [
    {
     "name": "stdout",
     "output_type": "stream",
     "text": [
      "Hash 1: 001cfff581830f3f\n",
      "Hash 2: 7f0f1c31018187ff\n",
      "Hash difference: 24\n",
      "Similarity score: 0.625\n",
      "The images are different.\n",
      "The images are quite different.\n"
     ]
    }
   ],
   "source": [
    "img1 = Image.open(\"images/renault-25-v6-turbo-phase-1-185ch-10.jpg\")\n",
    "img2 = Image.open(\"images/renault-25-v6-turbo-phase-1-185ch-7.jpg\")\n",
    "\n",
    "hash1 = imagehash.whash(img1)  # or dhash, ahash, whash\n",
    "hash2 = imagehash.whash(img2)\n",
    "\n",
    "hash_diff = hash1 - hash2\n",
    "\n",
    "print(f\"Hash 1: {hash1}\")\n",
    "print(f\"Hash 2: {hash2}\")\n",
    "print(f\"Hash difference: {hash_diff}\")\n",
    "print(f\"Similarity score: {1 - (hash_diff / len(hash1.hash) ** 2)}\")\n",
    "if hash_diff == 0:\n",
    "    print(\"The images are identical.\")\n",
    "else:\n",
    "    print(\"The images are different.\")\n",
    "    if hash_diff < 5:\n",
    "        print(\"The images are very similar.\")\n",
    "    elif hash_diff < 10:\n",
    "        print(\"The images are somewhat similar.\")\n",
    "    else:\n",
    "        print(\"The images are quite different.\")"
   ]
  }
 ],
 "metadata": {
  "kernelspec": {
   "display_name": "venv_img_sim",
   "language": "python",
   "name": "python3"
  },
  "language_info": {
   "codemirror_mode": {
    "name": "ipython",
    "version": 3
   },
   "file_extension": ".py",
   "mimetype": "text/x-python",
   "name": "python",
   "nbconvert_exporter": "python",
   "pygments_lexer": "ipython3",
   "version": "3.12.3"
  }
 },
 "nbformat": 4,
 "nbformat_minor": 5
}
